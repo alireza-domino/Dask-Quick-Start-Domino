{
 "cells": [
  {
   "cell_type": "markdown",
   "id": "02dab334-452a-491a-8ff1-5348985bc654",
   "metadata": {
    "jp-MarkdownHeadingCollapsed": true,
    "tags": []
   },
   "source": [
    "# Welcome to Dask-DataFrame Notebook!\n",
    "\n",
    "### Note:\n",
    "Notebook aims to cover dataframes in Dask in general.\n",
    "\n",
    "If you are already familiar with the concept you may.\n",
    "\n",
    "The reference of the notebook can be found [here.](https://examples.dask.org/dataframe.html)\n"
   ]
  },
  {
   "cell_type": "markdown",
   "id": "bb195806-3b73-4bc2-b891-f847e0717ab1",
   "metadata": {},
   "source": [
    "# Dask DataFrames\n",
    "\n",
    "     \n",
    "Dask Dataframes coordinate many Pandas dataframes, partitioned along an index.  They support a large subset of the Pandas API."
   ]
  },
  {
   "cell_type": "markdown",
   "id": "78abd0f9-d289-4933-bc5d-2036920d5b8a",
   "metadata": {},
   "source": [
    "## Start Dask Client for Dashboard\n",
    "\n",
    "Starting the Dask Client is optional.  It will provide a dashboard which \n",
    "is useful to gain insight on the computation.  \n",
    "\n",
    "The link to the dashboard will become visible when you create the client below.  We recommend having it open on one side of your screen while using your notebook on the other side.  This can take some effort to arrange your windows, but seeing them both at the same is very useful when learning."
   ]
  },
  {
   "cell_type": "code",
   "execution_count": null,
   "id": "17ecbf73-4a60-4b7a-b3b1-0392c6acdcec",
   "metadata": {},
   "outputs": [],
   "source": [
    "from dask.distributed import Client\n",
    "import os\n",
    "\n",
    "service_host = os.environ[\"DASK_SCHEDULER_SERVICE_HOST\"]\n",
    "\n",
    "# you should now be connected to the cluster\n",
    "# Dashboard link from the client object is clickable but will not route in Domino\n",
    "# Use the embedded Dask Web UI tab instead\n",
    "service_host\n",
    "\n",
    "service_port = os.environ[\"DASK_SCHEDULER_SERVICE_PORT\"]\n",
    "service_port\n",
    "\n",
    "client = Client(address=f\"{service_host}:{service_port}\")\n",
    "client\n",
    "\n",
    "\n",
    "\n",
    "#from dask.distributed import Client, progress\n",
    "#client = Client(n_workers=2, threads_per_worker=2, memory_limit='1GB')\n",
    "#client"
   ]
  },
  {
   "cell_type": "markdown",
   "id": "e914dbd4-c4d6-466d-8bb0-5637c6d4f478",
   "metadata": {},
   "source": [
    "## Create Random Dataframe\n",
    "\n",
    "We create a random timeseries of data with the following attributes:\n",
    "\n",
    "1.  It stores a record for every 10 seconds of the year 2000\n",
    "2.  It splits that year by month, keeping every month as a separate Pandas dataframe\n",
    "3.  Along with a datetime index it has columns for names, ids, and numeric values\n",
    "\n",
    "This is a small dataset of about 240 MB. Increase the number of days or reduce the frequency to practice with a larger dataset."
   ]
  },
  {
   "cell_type": "code",
   "execution_count": null,
   "id": "d9531fe7-fdd6-4fa3-a78b-ab8437abc537",
   "metadata": {},
   "outputs": [],
   "source": [
    "import dask\n",
    "import dask.dataframe as dd\n",
    "df = dask.datasets.timeseries()"
   ]
  },
  {
   "cell_type": "markdown",
   "id": "d5c99b05-7cdd-4236-83d3-935deddb96b6",
   "metadata": {},
   "source": [
    "Unlike Pandas, Dask DataFrames are lazy and so no data is printed here."
   ]
  },
  {
   "cell_type": "code",
   "execution_count": null,
   "id": "f6ca0478-37e8-48d5-ac8d-87757100a495",
   "metadata": {},
   "outputs": [],
   "source": [
    "df"
   ]
  },
  {
   "cell_type": "code",
   "execution_count": null,
   "id": "c959226d-a80f-4714-b334-ed2caf6eec36",
   "metadata": {},
   "outputs": [],
   "source": [
    "df.dtypes"
   ]
  },
  {
   "cell_type": "markdown",
   "id": "b5c06556-553d-46aa-9ed1-84a28aaf7fcb",
   "metadata": {},
   "source": [
    "Some operations will automatically display the data."
   ]
  },
  {
   "cell_type": "code",
   "execution_count": null,
   "id": "817d2348-8724-47cf-a63c-a3765d2146f9",
   "metadata": {},
   "outputs": [],
   "source": [
    "import pandas as pd\n",
    "pd.options.display.precision = 2\n",
    "pd.options.display.max_rows = 10"
   ]
  },
  {
   "cell_type": "code",
   "execution_count": null,
   "id": "9fa93c41-6eba-4a75-8190-4239bb03da5a",
   "metadata": {},
   "outputs": [],
   "source": [
    "df.head(3)"
   ]
  },
  {
   "cell_type": "markdown",
   "id": "2df969fb-dc83-4ebc-9d5e-4e385e4f285e",
   "metadata": {},
   "source": [
    "## Use Standard Pandas Operations\n",
    "\n",
    "Most common Pandas operations operate identically on Dask dataframes"
   ]
  },
  {
   "cell_type": "code",
   "execution_count": null,
   "id": "7fb49f63-048c-4d4a-9b21-3f6ae090380b",
   "metadata": {},
   "outputs": [],
   "source": [
    "df2 = df[df.y > 0]\n",
    "df3 = df2.groupby('name').x.std()\n",
    "df3"
   ]
  },
  {
   "cell_type": "markdown",
   "id": "869bebd0-ae8a-4f39-b0f6-a2cc5d7fb8ca",
   "metadata": {},
   "source": [
    "Call `.compute()` when you want your result as a Pandas dataframe.\n",
    "\n",
    "If you started `Client()` above then you may want to watch the status page during computation."
   ]
  },
  {
   "cell_type": "code",
   "execution_count": null,
   "id": "ec55f2e2-36c8-4c96-af17-86f1cdac5679",
   "metadata": {},
   "outputs": [],
   "source": [
    "computed_df = df3.compute()\n",
    "type(computed_df)"
   ]
  },
  {
   "cell_type": "code",
   "execution_count": null,
   "id": "552cf09a-a9c7-46e4-a33d-d32ae2746bae",
   "metadata": {},
   "outputs": [],
   "source": [
    "computed_df"
   ]
  },
  {
   "cell_type": "markdown",
   "id": "8744f90e-6423-4be2-a179-f3a4363bdf07",
   "metadata": {},
   "source": [
    "Aggregate multiple columns"
   ]
  },
  {
   "cell_type": "code",
   "execution_count": null,
   "id": "496977d4-1155-4b7c-bf38-02f888f4cc0a",
   "metadata": {},
   "outputs": [],
   "source": [
    "df4 = df.groupby('name').aggregate({\"x\": \"sum\", \"y\": \"max\"})\n",
    "df4.compute()"
   ]
  },
  {
   "cell_type": "markdown",
   "id": "9b6e62c1-5ea9-4be5-b4e1-42407669f506",
   "metadata": {},
   "source": [
    "Join two dataframes. Since the right dataframe is indexed by name, we use right index. Also since the right dataframe is small, we make sure that it is a single partition dataframe."
   ]
  },
  {
   "cell_type": "code",
   "execution_count": null,
   "id": "8f34cdcb-47d3-4bd4-a231-5d1fca4db9cd",
   "metadata": {},
   "outputs": [],
   "source": [
    "df4 = df4.repartition(npartitions=1)\n",
    "joined = df.merge(df4, left_on=\"name\", right_index=True)\n",
    "joined.head()"
   ]
  },
  {
   "cell_type": "markdown",
   "id": "8a2eb78e-46f9-49b6-834d-f380a6f35e60",
   "metadata": {},
   "source": [
    "## Persist data in memory\n",
    "\n",
    "If you have the available RAM for your dataset then you can persist data in memory.  \n",
    "\n",
    "This allows future computations to be much faster."
   ]
  },
  {
   "cell_type": "code",
   "execution_count": null,
   "id": "0fe7de34-5f60-45d1-940b-d3eb51cd6745",
   "metadata": {},
   "outputs": [],
   "source": [
    "df = df.persist()"
   ]
  },
  {
   "cell_type": "markdown",
   "id": "61eb8f8d-05d8-47ef-af24-642d5c21c4e6",
   "metadata": {},
   "source": [
    "## Time Series Operations\n",
    "\n",
    "Because we have a datetime index time-series operations work efficiently"
   ]
  },
  {
   "cell_type": "code",
   "execution_count": null,
   "id": "21dd6828-55ab-4128-baf2-9bdda5f8294a",
   "metadata": {},
   "outputs": [],
   "source": [
    "%matplotlib inline"
   ]
  },
  {
   "cell_type": "code",
   "execution_count": null,
   "id": "d3de7b87-8871-495d-a0f0-172090784931",
   "metadata": {},
   "outputs": [],
   "source": [
    "df[['x', 'y']].resample('1h').mean().head()"
   ]
  },
  {
   "cell_type": "code",
   "execution_count": null,
   "id": "ecb06e07-bef5-4cfa-9982-b5f309f597a0",
   "metadata": {},
   "outputs": [],
   "source": [
    "df[['x', 'y']].resample('24h').mean().compute().plot()"
   ]
  },
  {
   "cell_type": "code",
   "execution_count": null,
   "id": "34b1a0cd-bb3e-4788-9416-e51a56039814",
   "metadata": {},
   "outputs": [],
   "source": [
    "df[['x', 'y']].rolling(window='24h').mean().head()"
   ]
  },
  {
   "cell_type": "code",
   "execution_count": null,
   "id": "e4bb718c-dfa9-447b-b54e-4e5b307770c0",
   "metadata": {},
   "outputs": [],
   "source": [
    "df.loc['2000-01-05']"
   ]
  },
  {
   "cell_type": "code",
   "execution_count": null,
   "id": "61ea33fd-f65c-4e7e-b204-63597baa1058",
   "metadata": {},
   "outputs": [],
   "source": [
    "%time df.loc['2000-01-05'].compute()"
   ]
  },
  {
   "cell_type": "markdown",
   "id": "15b2c1ed-098d-4655-a9ac-18126f1146a0",
   "metadata": {},
   "source": [
    "## Set Index\n",
    "\n",
    "Data is sorted by the index column.  This allows for faster access, joins, groupby-apply operations, etc..  However sorting data can be costly to do in parallel, so setting the index is both important to do, but only infrequently."
   ]
  },
  {
   "cell_type": "code",
   "execution_count": null,
   "id": "ad11f24e-08b4-4532-a5be-29f96efb7992",
   "metadata": {},
   "outputs": [],
   "source": [
    "df = df.set_index('name')\n",
    "df"
   ]
  },
  {
   "cell_type": "markdown",
   "id": "058b1ded-51fd-40f8-9dac-34608a8e422e",
   "metadata": {},
   "source": [
    "Because computing this dataset is expensive and we can fit it in our available RAM, we persist the dataset to memory."
   ]
  },
  {
   "cell_type": "code",
   "execution_count": null,
   "id": "52ac0e9b-c463-40bc-a6fd-fc07d7813211",
   "metadata": {},
   "outputs": [],
   "source": [
    "df = df.persist()"
   ]
  },
  {
   "cell_type": "markdown",
   "id": "65d92eee-fff2-4538-9704-1cefbb664747",
   "metadata": {},
   "source": [
    "Dask now knows where all data lives, indexed cleanly by name.  As a result oerations like random access are cheap and efficient"
   ]
  },
  {
   "cell_type": "code",
   "execution_count": null,
   "id": "34a1c382-e332-4896-8965-708aaf790cd3",
   "metadata": {},
   "outputs": [],
   "source": [
    "%time df.loc['Alice'].compute()"
   ]
  },
  {
   "cell_type": "markdown",
   "id": "b7e28379-d1db-4a95-9ef9-dc8639dfdebc",
   "metadata": {},
   "source": [
    "## Groupby Apply with Scikit-Learn"
   ]
  },
  {
   "cell_type": "markdown",
   "id": "2e60bb85-aa45-455b-8c48-862704e0395b",
   "metadata": {},
   "source": [
    "Now that our data is sorted by name we can easily do operations like random access on name, or groupby-apply with custom functions.\n",
    "\n",
    "Here we train a different Scikit-Learn linear regression model on each name."
   ]
  },
  {
   "cell_type": "code",
   "execution_count": null,
   "id": "5f98fcfd-a034-42d8-85af-b38ee8140c9f",
   "metadata": {},
   "outputs": [],
   "source": [
    "from sklearn.linear_model import LinearRegression\n",
    "\n",
    "def train(partition):\n",
    "    est = LinearRegression()\n",
    "    est.fit(partition[['x']].values, partition.y.values)\n",
    "    return est"
   ]
  },
  {
   "cell_type": "code",
   "execution_count": null,
   "id": "61d3f7c1-4d5f-47ef-8d8c-301fe34c4971",
   "metadata": {},
   "outputs": [],
   "source": [
    "df.groupby('name').apply(train, meta=object).compute()"
   ]
  },
  {
   "cell_type": "markdown",
   "id": "31187a40-a08d-43f9-be3c-23b78712d2a7",
   "metadata": {},
   "source": [
    "## Further Reading\n",
    "\n",
    "For a more in-depth introduction to Dask dataframes, see the [dask tutorial](https://github.com/dask/dask-tutorial), notebooks 04 and 07."
   ]
  },
  {
   "cell_type": "markdown",
   "id": "93017e90-3d48-48c7-b14c-31c2c4123646",
   "metadata": {},
   "source": [
    "# ------------------------------------------------------------"
   ]
  }
 ],
 "metadata": {
  "kernelspec": {
   "display_name": "Python 3 (ipykernel)",
   "language": "python",
   "name": "python3"
  },
  "language_info": {
   "codemirror_mode": {
    "name": "ipython",
    "version": 3
   },
   "file_extension": ".py",
   "mimetype": "text/x-python",
   "name": "python",
   "nbconvert_exporter": "python",
   "pygments_lexer": "ipython3",
   "version": "3.8.12"
  }
 },
 "nbformat": 4,
 "nbformat_minor": 5
}
